{
 "cells": [
  {
   "cell_type": "markdown",
   "metadata": {},
   "source": [
    "# Data Cleaning for Brain Plotting\n",
    "By: Adam Li\n",
    "\n",
    "These functions are here to extract the mat files for the ROIs and faces/vertices of a brain plot. I extract the data from the .mat and convert them to dataframes for easy saving into csv and json format.\n",
    "\n",
    "The data can be correspondingly read into d3.js using a web server and then used to create interactive brain plots on a web browser."
   ]
  },
  {
   "cell_type": "code",
   "execution_count": 8,
   "metadata": {
    "collapsed": false
   },
   "outputs": [],
   "source": [
    "import os.path\n",
    "import pandas as pd\n",
    "from IPython.display import display\n",
    "\n",
    "import numpy as np\n",
    "import scipy.io\n",
    "import h5py\n",
    "\n",
    "import matplotlib\n",
    "from matplotlib import *\n",
    "from matplotlib import pyplot as plt\n",
    "import itertools\n",
    "from mpl_toolkits.axes_grid1 import make_axes_locatable\n",
    "\n",
    "# pretty charting\n",
    "import seaborn as sns\n",
    "sns.set_palette('muted')\n",
    "sns.set_style('darkgrid')\n",
    "\n",
    "%matplotlib inline"
   ]
  },
  {
   "cell_type": "code",
   "execution_count": 37,
   "metadata": {
    "collapsed": false
   },
   "outputs": [
    {
     "name": "stdout",
     "output_type": "stream",
     "text": [
      "EEG Root Dir is:  /Volumes/NIL_PASS/\n",
      "Faces matrix:  (400000, 3)\n",
      "Vertices matrix:  (200004, 3)\n",
      "ROI Matrix:  (1441, 3)\n"
     ]
    }
   ],
   "source": [
    "## SET EEGROOTDIR\n",
    "eegHomeDir = '/Users/adam2392/Documents/MATLAB/Johns Hopkins/NINDS_Rotation/'\n",
    "eegVolumeDir = '/Volumes/NIL_PASS/'\n",
    "\n",
    "if os.path.exists(eegVolumeDir):\n",
    "    eegRootDir = eegVolumeDir\n",
    "elif os.path.exists(eegHomeDir):\n",
    "    eegRootDir = eegHomeDir\n",
    "else:\n",
    "    print \"eegRootDir has none.\"\n",
    "print \"EEG Root Dir is: \", eegRootDir\n",
    "\n",
    "## LOAD IN BRAIN PLOTTING DATA\n",
    "BRAINDIR = '../brain_plotting_code/'\n",
    "brainMat = BRAINDIR + 'brain.mat'\n",
    "roiMat = BRAINDIR + 'ROI.mat'\n",
    "\n",
    "brain = scipy.io.loadmat(brainMat)\n",
    "faces = brain['F']\n",
    "vertices = brain['V']\n",
    "print \"Faces matrix: \", faces.shape\n",
    "print \"Vertices matrix: \", vertices.shape\n",
    "\n",
    "roi = h5py.File(roiMat)\n",
    "roi = roi['ROI']\n",
    "roi = np.array(roi).T\n",
    "print \"ROI Matrix: \", roi.shape"
   ]
  },
  {
   "cell_type": "code",
   "execution_count": 39,
   "metadata": {
    "collapsed": false
   },
   "outputs": [
    {
     "name": "stdout",
     "output_type": "stream",
     "text": [
      "(200004, 3)\n",
      "(400000, 3)\n",
      "(1441, 3)\n"
     ]
    },
    {
     "data": {
      "text/html": [
       "<div>\n",
       "<table border=\"1\" class=\"dataframe\">\n",
       "  <thead>\n",
       "    <tr style=\"text-align: right;\">\n",
       "      <th></th>\n",
       "      <th>x</th>\n",
       "      <th>y</th>\n",
       "      <th>z</th>\n",
       "    </tr>\n",
       "  </thead>\n",
       "  <tbody>\n",
       "    <tr>\n",
       "      <th>0</th>\n",
       "      <td>-16.709240</td>\n",
       "      <td>68.009659</td>\n",
       "      <td>7.994206</td>\n",
       "    </tr>\n",
       "    <tr>\n",
       "      <th>1</th>\n",
       "      <td>-7.628133</td>\n",
       "      <td>68.009659</td>\n",
       "      <td>17.686089</td>\n",
       "    </tr>\n",
       "    <tr>\n",
       "      <th>2</th>\n",
       "      <td>-7.445113</td>\n",
       "      <td>68.009659</td>\n",
       "      <td>3.415041</td>\n",
       "    </tr>\n",
       "    <tr>\n",
       "      <th>3</th>\n",
       "      <td>-28.076458</td>\n",
       "      <td>62.509659</td>\n",
       "      <td>6.001571</td>\n",
       "    </tr>\n",
       "    <tr>\n",
       "      <th>4</th>\n",
       "      <td>-25.202274</td>\n",
       "      <td>62.509659</td>\n",
       "      <td>16.700949</td>\n",
       "    </tr>\n",
       "  </tbody>\n",
       "</table>\n",
       "</div>"
      ],
      "text/plain": [
       "           x          y          z\n",
       "0 -16.709240  68.009659   7.994206\n",
       "1  -7.628133  68.009659  17.686089\n",
       "2  -7.445113  68.009659   3.415041\n",
       "3 -28.076458  62.509659   6.001571\n",
       "4 -25.202274  62.509659  16.700949"
      ]
     },
     "metadata": {},
     "output_type": "display_data"
    },
    {
     "data": {
      "text/html": [
       "<div>\n",
       "<table border=\"1\" class=\"dataframe\">\n",
       "  <thead>\n",
       "    <tr style=\"text-align: right;\">\n",
       "      <th></th>\n",
       "      <th>x</th>\n",
       "      <th>y</th>\n",
       "      <th>z</th>\n",
       "    </tr>\n",
       "  </thead>\n",
       "  <tbody>\n",
       "    <tr>\n",
       "      <th>0</th>\n",
       "      <td>-24.872351</td>\n",
       "      <td>-2.496538</td>\n",
       "      <td>-17.487497</td>\n",
       "    </tr>\n",
       "    <tr>\n",
       "      <th>1</th>\n",
       "      <td>-31.661413</td>\n",
       "      <td>11.653711</td>\n",
       "      <td>56.273590</td>\n",
       "    </tr>\n",
       "    <tr>\n",
       "      <th>2</th>\n",
       "      <td>-23.876099</td>\n",
       "      <td>-38.742859</td>\n",
       "      <td>56.636925</td>\n",
       "    </tr>\n",
       "    <tr>\n",
       "      <th>3</th>\n",
       "      <td>-22.466244</td>\n",
       "      <td>-71.454536</td>\n",
       "      <td>-9.936863</td>\n",
       "    </tr>\n",
       "    <tr>\n",
       "      <th>4</th>\n",
       "      <td>-37.237583</td>\n",
       "      <td>12.870546</td>\n",
       "      <td>13.421244</td>\n",
       "    </tr>\n",
       "  </tbody>\n",
       "</table>\n",
       "</div>"
      ],
      "text/plain": [
       "           x          y          z\n",
       "0 -24.872351  -2.496538 -17.487497\n",
       "1 -31.661413  11.653711  56.273590\n",
       "2 -23.876099 -38.742859  56.636925\n",
       "3 -22.466244 -71.454536  -9.936863\n",
       "4 -37.237583  12.870546  13.421244"
      ]
     },
     "metadata": {},
     "output_type": "display_data"
    },
    {
     "data": {
      "text/html": [
       "<div>\n",
       "<table border=\"1\" class=\"dataframe\">\n",
       "  <thead>\n",
       "    <tr style=\"text-align: right;\">\n",
       "      <th></th>\n",
       "      <th>v1</th>\n",
       "      <th>v2</th>\n",
       "      <th>v3</th>\n",
       "    </tr>\n",
       "  </thead>\n",
       "  <tbody>\n",
       "    <tr>\n",
       "      <th>0</th>\n",
       "      <td>211</td>\n",
       "      <td>1</td>\n",
       "      <td>13</td>\n",
       "    </tr>\n",
       "    <tr>\n",
       "      <th>1</th>\n",
       "      <td>310</td>\n",
       "      <td>211</td>\n",
       "      <td>13</td>\n",
       "    </tr>\n",
       "    <tr>\n",
       "      <th>2</th>\n",
       "      <td>211</td>\n",
       "      <td>310</td>\n",
       "      <td>212</td>\n",
       "    </tr>\n",
       "    <tr>\n",
       "      <th>3</th>\n",
       "      <td>311</td>\n",
       "      <td>212</td>\n",
       "      <td>310</td>\n",
       "    </tr>\n",
       "    <tr>\n",
       "      <th>4</th>\n",
       "      <td>212</td>\n",
       "      <td>311</td>\n",
       "      <td>213</td>\n",
       "    </tr>\n",
       "  </tbody>\n",
       "</table>\n",
       "</div>"
      ],
      "text/plain": [
       "    v1   v2   v3\n",
       "0  211    1   13\n",
       "1  310  211   13\n",
       "2  211  310  212\n",
       "3  311  212  310\n",
       "4  212  311  213"
      ]
     },
     "metadata": {},
     "output_type": "display_data"
    }
   ],
   "source": [
    "## CONVERT DATA INTO DATAFRAMES\n",
    "df_roi = pd.DataFrame(data=roi,\n",
    "                      index=[range(0, len(roi))],\n",
    "                      columns=['x', 'y', 'z'])\n",
    "df_vertices = pd.DataFrame(data=vertices,\n",
    "                          index=[range(0, len(vertices))],\n",
    "                          columns=['x', 'y', 'z'])\n",
    "df_faces = pd.DataFrame(data=faces,\n",
    "                       index=[range(0, len(faces))],\n",
    "                       columns=['v1', 'v2', 'v3'])\n",
    "print df_vertices.shape\n",
    "print df_faces.shape\n",
    "print df_roi.shape\n",
    "display(df_roi.head())\n",
    "display(df_vertices.head())\n",
    "display(df_faces.head())\n",
    "\n",
    "## SAVE TO JSON/CSV, comment 1 out\n",
    "OUTPUT_ROI = 'data/roi.csv'\n",
    "OUTPUT_V = 'data/vertices.csv'\n",
    "OUTPUT_F = 'data/faces.csv'\n",
    "\n",
    "# save the dataframe \n",
    "df_roi.to_csv(OUTPUT_ROI)\n",
    "df_vertices.to_csv(OUTPUT_V)\n",
    "df_faces.to_csv(OUTPUT_F)\n",
    "\n",
    "OUTPUT_ROI = 'data/roi.json'\n",
    "OUTPUT_V = 'data/vertices.json'\n",
    "OUTPUT_F = 'data/faces.json'\n",
    "df_roi.to_json(OUTPUT_ROI)\n",
    "df_vertices.to_json(OUTPUT_V)\n",
    "df_faces.to_json(OUTPUT_F)"
   ]
  },
  {
   "cell_type": "code",
   "execution_count": null,
   "metadata": {
    "collapsed": true
   },
   "outputs": [],
   "source": []
  }
 ],
 "metadata": {
  "kernelspec": {
   "display_name": "Python 2",
   "language": "python",
   "name": "python2"
  },
  "language_info": {
   "codemirror_mode": {
    "name": "ipython",
    "version": 2
   },
   "file_extension": ".py",
   "mimetype": "text/x-python",
   "name": "python",
   "nbconvert_exporter": "python",
   "pygments_lexer": "ipython2",
   "version": "2.7.12"
  }
 },
 "nbformat": 4,
 "nbformat_minor": 0
}
