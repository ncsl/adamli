{
 "cells": [
  {
   "cell_type": "markdown",
   "metadata": {},
   "source": [
    "# Electrode Noise Detection\n",
    "\n",
    "This notebook will implement a series of first pass machine learning algorithms to test rejection of electrodes.\n",
    "\n",
    "Noise is categorized for us as the following:\n",
    "1. EKG vs EEG\n",
    "2. DC electrodes\n",
    "3. Reference Electrodes\n",
    "4. Band noise electrodes -> notch filter\n",
    "5. General noise electrodes -> reject\n",
    "\n",
    "Algorithms to systematically explore:\n",
    "1. Linear Regression\n",
    "2. Logistic Regression\n",
    "3. LDA and QDA\n",
    "4. Naive Bayes\n",
    "5. KNN\n",
    "6. SVM\n",
    "7. LVQ\n",
    "8. Random Forest\n",
    "9. Adaboost"
   ]
  },
  {
   "cell_type": "code",
   "execution_count": null,
   "metadata": {
    "collapsed": true
   },
   "outputs": [],
   "source": []
  }
 ],
 "metadata": {
  "kernelspec": {
   "display_name": "Python 2",
   "language": "python",
   "name": "python2"
  },
  "language_info": {
   "codemirror_mode": {
    "name": "ipython",
    "version": 2
   },
   "file_extension": ".py",
   "mimetype": "text/x-python",
   "name": "python",
   "nbconvert_exporter": "python",
   "pygments_lexer": "ipython2",
   "version": "2.7.12"
  }
 },
 "nbformat": 4,
 "nbformat_minor": 0
}
