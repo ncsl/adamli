{
 "cells": [
  {
   "cell_type": "markdown",
   "metadata": {},
   "source": [
    "# Electrode Noise Detection\n",
    "\n",
    "This notebook will implement a series of first pass machine learning algorithms to test rejection of electrodes.\n",
    "\n",
    "Noise is categorized for us as the following:\n",
    "1. EKG vs EEG\n",
    "2. DC electrodes\n",
    "3. Reference Electrodes\n",
    "4. Band noise electrodes -> notch filter\n",
    "5. General noise electrodes -> reject\n",
    "\n",
    "Algorithms to systematically explore:\n",
    "1. Linear Regression\n",
    "2. Logistic Regression\n",
    "3. LDA and QDA\n",
    "4. Naive Bayes\n",
    "5. KNN\n",
    "6. SVM\n",
    "7. LVQ\n",
    "8. Random Forest\n",
    "9. Adaboost\n",
    "\n",
    "Try to do noise vs. no noise electrodes. Then segment further into the different types of noise.\n",
    "\n",
    "### General List of Features\n",
    "I will be using raw data windowed, spectral morlet features, and power spectrum. \n",
    "\n",
    "### Table of Contents\n",
    "1. [Importing Data](#section0)\n"
   ]
  },
  {
   "cell_type": "code",
   "execution_count": 1,
   "metadata": {
    "collapsed": false
   },
   "outputs": [
    {
     "name": "stderr",
     "output_type": "stream",
     "text": [
      "/usr/local/lib/python2.7/dist-packages/sklearn/lda.py:6: DeprecationWarning: lda.LDA has been moved to discriminant_analysis.LinearDiscriminantAnalysis in 0.17 and will be removed in 0.19\n",
      "  \"in 0.17 and will be removed in 0.19\", DeprecationWarning)\n"
     ]
    }
   ],
   "source": [
    "import pandas as pd\n",
    "import numpy as np\n",
    "import matplotlib\n",
    "from matplotlib import *\n",
    "from matplotlib import pyplot as plt\n",
    "\n",
    "from IPython.display import display\n",
    "import random\n",
    "random.seed(9001)\n",
    "\n",
    "# import .mat io\n",
    "import scipy, scipy.io\n",
    "try:\n",
    "    import cPickle as pickle\n",
    "except:\n",
    "    import pickle\n",
    "import time\n",
    "\n",
    "# import piping and linear models\n",
    "import sklearn\n",
    "from sklearn import linear_model, decomposition, datasets\n",
    "from sklearn.pipeline import Pipeline\n",
    "from sklearn.model_selection import GridSearchCV\n",
    "# from sklearn.discriminant_analysis.LinearDiscriminantAnalysis import LDA\n",
    "from sklearn.lda import LDA\n",
    "\n",
    "# import ensemble techniques\n",
    "from sklearn.ensemble import RandomForestClassifier\n",
    "\n",
    "# import feature selection\n",
    "from sklearn.feature_selection import SelectKBest\n",
    "\n",
    "# import train/test splitting\n",
    "from sklearn.model_selection import train_test_split\n",
    "\n",
    "# pretty charting\n",
    "import seaborn as sns\n",
    "sns.set_palette('muted')\n",
    "sns.set_style('darkgrid')\n",
    "\n",
    "%matplotlib inline"
   ]
  },
  {
   "cell_type": "code",
   "execution_count": 2,
   "metadata": {
    "collapsed": true
   },
   "outputs": [],
   "source": [
    "def loadmat(filename):\n",
    "    '''\n",
    "    this function should be called instead of direct spio.loadmat\n",
    "    as it cures the problem of not properly recovering python dictionaries\n",
    "    from mat files. It calls the function check keys to cure all entries\n",
    "    which are still mat-objects\n",
    "    '''\n",
    "    data = scipy.io.loadmat(filename, struct_as_record=False, squeeze_me=True)\n",
    "    return _check_keys(data)\n",
    "\n",
    "def _check_keys(dict):\n",
    "    '''\n",
    "    checks if entries in dictionary are mat-objects. If yes\n",
    "    todict is called to change them to nested dictionaries\n",
    "    '''\n",
    "    for key in dict:\n",
    "        if isinstance(dict[key], scipy.io.matlab.mio5_params.mat_struct):\n",
    "            dict[key] = _todict(dict[key])\n",
    "    return dict        \n",
    "\n",
    "def _todict(matobj):\n",
    "    '''\n",
    "    A recursive function which constructs from matobjects nested dictionaries\n",
    "    '''\n",
    "    dict = {}\n",
    "    for strg in matobj._fieldnames:\n",
    "        elem = matobj.__dict__[strg]\n",
    "        if isinstance(elem, scipy.io.matlab.mio5_params.mat_struct):\n",
    "            dict[strg] = _todict(elem)\n",
    "        elif isinstance(elem,np.ndarray):\n",
    "            dict[strg] = _tolist(elem)\n",
    "        else:\n",
    "            dict[strg] = elem\n",
    "    return dict\n",
    "\n",
    "def _tolist(ndarray):\n",
    "    '''\n",
    "    A recursive function which constructs lists from cellarrays \n",
    "    (which are loaded as numpy ndarrays), recursing into the elements\n",
    "    if they contain matobjects.\n",
    "    '''\n",
    "    elem_list = []            \n",
    "    for sub_elem in ndarray:\n",
    "        if isinstance(sub_elem, scipy.io.matlab.mio5_params.mat_struct):\n",
    "            elem_list.append(_todict(sub_elem))\n",
    "        elif isinstance(sub_elem,np.ndarray):\n",
    "            elem_list.append(_tolist(sub_elem))\n",
    "        else:\n",
    "            elem_list.append(sub_elem)\n",
    "    return elem_list\n",
    "\n",
    "def convertMatToJSON(matData, fileName):\n",
    "    for key in matData.keys():\n",
    "        if (type(matData[key])) is np.ndarray:\n",
    "            serializedData = pickle.dumps(matData[key], protocol=0) # protocol 0 is printable ASCII\n",
    "            jsonData[key] = serializedData\n",
    "        else:\n",
    "            jsonData[key] = matData[key]\n",
    "\n",
    "    with contextlib.closing(bz2.BZ2File(fileName, 'wb')) as f:\n",
    "        json.dump(jsonData, f)"
   ]
  },
  {
   "cell_type": "markdown",
   "metadata": {
    "collapsed": true
   },
   "source": [
    "# 0. Import Data For Pt1\n",
    "<a id='section0'></a>"
   ]
  },
  {
   "cell_type": "code",
   "execution_count": 3,
   "metadata": {
    "collapsed": false
   },
   "outputs": [],
   "source": [
    "# set root dir\n",
    "rootDirHome = ''\n",
    "rootDirWork = '/home/WIN/ali39/Documents/adamli/fragility_dataanalysis/'\n",
    "if os.path.isdir(rootDirWork):\n",
    "    rootDir = rootDirWork\n",
    "elif os.path.isdir(rootDirHome):\n",
    "    rootDir = rootDirHome\n",
    "else:\n",
    "    print \"Root directory is not set yet!\"\n",
    "\n",
    "# set center\n",
    "center = 'nih'\n",
    "patient = 'pt1sz2'\n",
    "winSize = '500'\n",
    "stepSize = '250'\n",
    "freq = '1000'\n",
    "\n",
    "parameterDir = 'win' + winSize + '_step' + stepSize + '_freq' + freq\n",
    "    \n",
    "# data directories\n",
    "rawdata_dir = os.path.join(rootDir, 'data', center, patient)\n",
    "spect_dir = os.path.join(rootDir, 'serverdata', 'spectral_analysis', parameterDir)"
   ]
  },
  {
   "cell_type": "code",
   "execution_count": 4,
   "metadata": {
    "collapsed": false
   },
   "outputs": [],
   "source": [
    "# import raw data and separate into their categories\n",
    "data = loadmat(os.path.join(rawdata_dir, patient + '.mat'))\n",
    "elec_labels = data['elec_labels']\n",
    "seiz_start_mark = data['seiz_start_mark']\n",
    "seiz_end_mark = data['seiz_end_mark']\n",
    "eegdata = data['data']"
   ]
  },
  {
   "cell_type": "code",
   "execution_count": 5,
   "metadata": {
    "collapsed": false
   },
   "outputs": [],
   "source": [
    "# only get preseizure data\n",
    "eegdata = eegdata[:, 0:seiz_start_mark]"
   ]
  },
  {
   "cell_type": "code",
   "execution_count": 6,
   "metadata": {
    "collapsed": false
   },
   "outputs": [
    {
     "data": {
      "text/html": [
       "<div>\n",
       "<table border=\"1\" class=\"dataframe\">\n",
       "  <thead>\n",
       "    <tr style=\"text-align: right;\">\n",
       "      <th></th>\n",
       "      <th>POLG1</th>\n",
       "      <th>POLG2</th>\n",
       "      <th>POLG3</th>\n",
       "      <th>POLG4</th>\n",
       "      <th>POLG5</th>\n",
       "      <th>POLG6</th>\n",
       "      <th>POLG7</th>\n",
       "      <th>POLG8</th>\n",
       "      <th>POLG9</th>\n",
       "      <th>POLG10</th>\n",
       "      <th>...</th>\n",
       "      <th>POLMLT2</th>\n",
       "      <th>POLMLT3</th>\n",
       "      <th>POLMLT4</th>\n",
       "      <th>POLSLT1</th>\n",
       "      <th>POLSLT2</th>\n",
       "      <th>POLSLT3</th>\n",
       "      <th>POLSLT4</th>\n",
       "      <th>POLEKG1</th>\n",
       "      <th>POLEKG2</th>\n",
       "      <th>POL</th>\n",
       "    </tr>\n",
       "  </thead>\n",
       "  <tbody>\n",
       "    <tr>\n",
       "      <th>0</th>\n",
       "      <td>-8.983298</td>\n",
       "      <td>299.221985</td>\n",
       "      <td>244.140961</td>\n",
       "      <td>169.532425</td>\n",
       "      <td>73.048424</td>\n",
       "      <td>-143.355987</td>\n",
       "      <td>248.828827</td>\n",
       "      <td>154.297226</td>\n",
       "      <td>59.378761</td>\n",
       "      <td>-118.750298</td>\n",
       "      <td>...</td>\n",
       "      <td>226.953583</td>\n",
       "      <td>83.594688</td>\n",
       "      <td>310.939362</td>\n",
       "      <td>171.875626</td>\n",
       "      <td>302.351654</td>\n",
       "      <td>198.048309</td>\n",
       "      <td>342.579285</td>\n",
       "      <td>181.263840</td>\n",
       "      <td>225.390213</td>\n",
       "      <td>314.092316</td>\n",
       "    </tr>\n",
       "    <tr>\n",
       "      <th>1</th>\n",
       "      <td>8.204192</td>\n",
       "      <td>303.518860</td>\n",
       "      <td>230.078461</td>\n",
       "      <td>161.329300</td>\n",
       "      <td>69.532806</td>\n",
       "      <td>-141.793487</td>\n",
       "      <td>253.516312</td>\n",
       "      <td>155.469101</td>\n",
       "      <td>77.738121</td>\n",
       "      <td>-103.906548</td>\n",
       "      <td>...</td>\n",
       "      <td>247.266067</td>\n",
       "      <td>91.016556</td>\n",
       "      <td>335.548706</td>\n",
       "      <td>185.547501</td>\n",
       "      <td>307.039154</td>\n",
       "      <td>226.954559</td>\n",
       "      <td>371.876160</td>\n",
       "      <td>174.232605</td>\n",
       "      <td>216.015228</td>\n",
       "      <td>371.123383</td>\n",
       "    </tr>\n",
       "    <tr>\n",
       "      <th>2</th>\n",
       "      <td>7.422943</td>\n",
       "      <td>296.878235</td>\n",
       "      <td>219.140961</td>\n",
       "      <td>145.704315</td>\n",
       "      <td>64.064064</td>\n",
       "      <td>-135.934128</td>\n",
       "      <td>251.953812</td>\n",
       "      <td>146.094116</td>\n",
       "      <td>80.081863</td>\n",
       "      <td>-96.094048</td>\n",
       "      <td>...</td>\n",
       "      <td>255.859817</td>\n",
       "      <td>91.407181</td>\n",
       "      <td>339.454956</td>\n",
       "      <td>186.719360</td>\n",
       "      <td>306.648529</td>\n",
       "      <td>235.157684</td>\n",
       "      <td>388.673035</td>\n",
       "      <td>156.263885</td>\n",
       "      <td>191.405853</td>\n",
       "      <td>391.826446</td>\n",
       "    </tr>\n",
       "    <tr>\n",
       "      <th>3</th>\n",
       "      <td>-9.764548</td>\n",
       "      <td>283.987640</td>\n",
       "      <td>202.344086</td>\n",
       "      <td>129.688690</td>\n",
       "      <td>59.376572</td>\n",
       "      <td>-128.512268</td>\n",
       "      <td>239.063202</td>\n",
       "      <td>143.359741</td>\n",
       "      <td>75.784996</td>\n",
       "      <td>-99.219048</td>\n",
       "      <td>...</td>\n",
       "      <td>257.422333</td>\n",
       "      <td>90.625931</td>\n",
       "      <td>345.314331</td>\n",
       "      <td>187.109985</td>\n",
       "      <td>292.586029</td>\n",
       "      <td>236.329559</td>\n",
       "      <td>403.516785</td>\n",
       "      <td>207.435669</td>\n",
       "      <td>223.437088</td>\n",
       "      <td>395.732696</td>\n",
       "    </tr>\n",
       "    <tr>\n",
       "      <th>4</th>\n",
       "      <td>-40.233284</td>\n",
       "      <td>268.753265</td>\n",
       "      <td>197.265976</td>\n",
       "      <td>108.594955</td>\n",
       "      <td>55.860951</td>\n",
       "      <td>-122.262276</td>\n",
       "      <td>239.453827</td>\n",
       "      <td>143.750366</td>\n",
       "      <td>63.285007</td>\n",
       "      <td>-105.859673</td>\n",
       "      <td>...</td>\n",
       "      <td>257.812958</td>\n",
       "      <td>75.000938</td>\n",
       "      <td>341.798706</td>\n",
       "      <td>186.328735</td>\n",
       "      <td>269.539185</td>\n",
       "      <td>216.407684</td>\n",
       "      <td>400.391785</td>\n",
       "      <td>271.888702</td>\n",
       "      <td>258.202698</td>\n",
       "      <td>327.764130</td>\n",
       "    </tr>\n",
       "  </tbody>\n",
       "</table>\n",
       "<p>5 rows × 98 columns</p>\n",
       "</div>"
      ],
      "text/plain": [
       "       POLG1       POLG2       POLG3       POLG4      POLG5       POLG6  \\\n",
       "0  -8.983298  299.221985  244.140961  169.532425  73.048424 -143.355987   \n",
       "1   8.204192  303.518860  230.078461  161.329300  69.532806 -141.793487   \n",
       "2   7.422943  296.878235  219.140961  145.704315  64.064064 -135.934128   \n",
       "3  -9.764548  283.987640  202.344086  129.688690  59.376572 -128.512268   \n",
       "4 -40.233284  268.753265  197.265976  108.594955  55.860951 -122.262276   \n",
       "\n",
       "        POLG7       POLG8      POLG9      POLG10     ...         POLMLT2  \\\n",
       "0  248.828827  154.297226  59.378761 -118.750298     ...      226.953583   \n",
       "1  253.516312  155.469101  77.738121 -103.906548     ...      247.266067   \n",
       "2  251.953812  146.094116  80.081863  -96.094048     ...      255.859817   \n",
       "3  239.063202  143.359741  75.784996  -99.219048     ...      257.422333   \n",
       "4  239.453827  143.750366  63.285007 -105.859673     ...      257.812958   \n",
       "\n",
       "     POLMLT3     POLMLT4     POLSLT1     POLSLT2     POLSLT3     POLSLT4  \\\n",
       "0  83.594688  310.939362  171.875626  302.351654  198.048309  342.579285   \n",
       "1  91.016556  335.548706  185.547501  307.039154  226.954559  371.876160   \n",
       "2  91.407181  339.454956  186.719360  306.648529  235.157684  388.673035   \n",
       "3  90.625931  345.314331  187.109985  292.586029  236.329559  403.516785   \n",
       "4  75.000938  341.798706  186.328735  269.539185  216.407684  400.391785   \n",
       "\n",
       "      POLEKG1     POLEKG2         POL  \n",
       "0  181.263840  225.390213  314.092316  \n",
       "1  174.232605  216.015228  371.123383  \n",
       "2  156.263885  191.405853  391.826446  \n",
       "3  207.435669  223.437088  395.732696  \n",
       "4  271.888702  258.202698  327.764130  \n",
       "\n",
       "[5 rows x 98 columns]"
      ]
     },
     "metadata": {},
     "output_type": "display_data"
    }
   ],
   "source": [
    "# convert eeg data into a pandas dataframe\n",
    "eeg = pd.DataFrame(data=eegdata, index=elec_labels).transpose()\n",
    "display(eeg.head())"
   ]
  },
  {
   "cell_type": "code",
   "execution_count": 7,
   "metadata": {
    "collapsed": false
   },
   "outputs": [
    {
     "name": "stdout",
     "output_type": "stream",
     "text": [
      "84\n",
      "14\n",
      "Coin toss positive:  0.142857142857\n",
      "Coin toss negative:  0.857142857143\n"
     ]
    }
   ],
   "source": [
    "# label certain electrodes as noise\n",
    "noise_channels = np.arange(37,42) - 1\n",
    "noise_channels = np.append(noise_channels, np.array((44, 45, 55, 61, 70, 71, 96, 97, 98))-1)\n",
    "other_channels = np.arange(0, len(elec_labels))\n",
    "other_channels = np.delete(other_channels, noise_channels)\n",
    "\n",
    "correct_labels = elec_labels[other_channels]\n",
    "noise_labels = elec_labels[noise_channels]\n",
    "\n",
    "print len(other_channels)\n",
    "print len(noise_channels)\n",
    "\n",
    "print \"Coin toss positive: \", float(len(noise_channels))/len(elec_labels)\n",
    "print \"Coin toss negative: \", len(other_channels)/float(len(elec_labels))"
   ]
  },
  {
   "cell_type": "code",
   "execution_count": 8,
   "metadata": {
    "collapsed": false
   },
   "outputs": [
    {
     "data": {
      "text/html": [
       "<div>\n",
       "<table border=\"1\" class=\"dataframe\">\n",
       "  <thead>\n",
       "    <tr style=\"text-align: right;\">\n",
       "      <th></th>\n",
       "      <th>Chans</th>\n",
       "      <th>Noise Labels</th>\n",
       "    </tr>\n",
       "  </thead>\n",
       "  <tbody>\n",
       "    <tr>\n",
       "      <th>0</th>\n",
       "      <td>POLG1</td>\n",
       "      <td>0</td>\n",
       "    </tr>\n",
       "    <tr>\n",
       "      <th>1</th>\n",
       "      <td>POLG2</td>\n",
       "      <td>0</td>\n",
       "    </tr>\n",
       "    <tr>\n",
       "      <th>2</th>\n",
       "      <td>POLG3</td>\n",
       "      <td>0</td>\n",
       "    </tr>\n",
       "    <tr>\n",
       "      <th>3</th>\n",
       "      <td>POLG4</td>\n",
       "      <td>0</td>\n",
       "    </tr>\n",
       "    <tr>\n",
       "      <th>4</th>\n",
       "      <td>POLG5</td>\n",
       "      <td>0</td>\n",
       "    </tr>\n",
       "  </tbody>\n",
       "</table>\n",
       "</div>"
      ],
      "text/plain": [
       "   Chans Noise Labels\n",
       "0  POLG1            0\n",
       "1  POLG2            0\n",
       "2  POLG3            0\n",
       "3  POLG4            0\n",
       "4  POLG5            0"
      ]
     },
     "metadata": {},
     "output_type": "display_data"
    }
   ],
   "source": [
    "# add labels dataframe\n",
    "labelsdf = pd.DataFrame(eeg.columns.values)\n",
    "labels = np.copy(eeg.columns.values)\n",
    "labels[noise_channels] = 1\n",
    "labels[other_channels] = 0\n",
    "\n",
    "# create a labels data frame\n",
    "labelsdf = pd.concat([labelsdf, pd.DataFrame(labels)], axis=1)\n",
    "labelsdf.columns = ['Chans', 'Noise Labels']\n",
    "display(labelsdf.head())"
   ]
  },
  {
   "cell_type": "markdown",
   "metadata": {},
   "source": [
    "# 1. Apply Linear Regression\n",
    "<a id='section1'></a>"
   ]
  },
  {
   "cell_type": "code",
   "execution_count": null,
   "metadata": {
    "collapsed": true
   },
   "outputs": [],
   "source": []
  },
  {
   "cell_type": "markdown",
   "metadata": {},
   "source": [
    "# 2. Logistic Regression\n",
    "<a id='section2'></a>"
   ]
  },
  {
   "cell_type": "code",
   "execution_count": 9,
   "metadata": {
    "collapsed": false
   },
   "outputs": [
    {
     "name": "stdout",
     "output_type": "stream",
     "text": [
      "(98, 2)\n",
      "(98, 85000)\n"
     ]
    }
   ],
   "source": [
    "print labelsdf.shape\n",
    "print eegdata.shape\n"
   ]
  },
  {
   "cell_type": "code",
   "execution_count": 14,
   "metadata": {
    "collapsed": false
   },
   "outputs": [
    {
     "name": "stdout",
     "output_type": "stream",
     "text": [
      "Time spent in PCA is:  16.481527  seconds\n"
     ]
    }
   ],
   "source": [
    "# split into cross-validation test/train split\n",
    "X_train, X_test, y_train, y_test = train_test_split(eegdata, labelsdf['Noise Labels'], test_size=0.3, random_state=0)\n",
    "\n",
    "# initialize logistic model\n",
    "logistic = linear_model.LogisticRegression()\n",
    "\n",
    "# initialize pca\n",
    "pca = decomposition.PCA()\n",
    "start = time.clock()\n",
    "\n",
    "pca.fit(eegdata)\n",
    "\n",
    "elapsed = time.clock()\n",
    "elapsed = elapsed - start\n",
    "print \"Time spent in PCA is: \", elapsed, ' seconds'"
   ]
  },
  {
   "cell_type": "code",
   "execution_count": 11,
   "metadata": {
    "collapsed": false
   },
   "outputs": [
    {
     "name": "stdout",
     "output_type": "stream",
     "text": [
      "(98, 85000)\n"
     ]
    },
    {
     "data": {
      "text/plain": [
       "<matplotlib.text.Text at 0x7f288857fb50>"
      ]
     },
     "execution_count": 11,
     "metadata": {},
     "output_type": "execute_result"
    },
    {
     "data": {
      "image/png": "[encoded data removed]",
      "text/plain": [
       "<matplotlib.figure.Figure at 0x7f2894ef11d0>"
      ]
     },
     "metadata": {},
     "output_type": "display_data"
    }
   ],
   "source": [
    "print eegdata.shape\n",
    "\n",
    "plt.figure(1, figsize=(10,3))\n",
    "plt.plot(pca.explained_variance_ratio_, linewidth=2)\n",
    "plt.axis('tight')\n",
    "plt.title('PCA Explained Variance')\n",
    "plt.xlabel('# components')\n",
    "plt.ylabel('explained variance')"
   ]
  },
  {
   "cell_type": "code",
   "execution_count": 15,
   "metadata": {
    "collapsed": false
   },
   "outputs": [],
   "source": [
    "# paramters for logistic reg in pipeline\n",
    "Cs = np.logspace(-4, 4, 5)\n",
    "penalty = ['l1', 'l2']\n",
    "\n",
    "# create a pipe\n",
    "steps = [('logistic', logistic)]\n",
    "pipe = Pipeline(steps=steps)\n",
    "\n",
    "# create grid search estimator\n",
    "parameters = dict(\n",
    "    logistic__C = Cs,\n",
    "    logistic__penalty = penalty\n",
    ")\n",
    "\n",
    "estimator = GridSearchCV(pipe, param_grid=parameters)"
   ]
  },
  {
   "cell_type": "code",
   "execution_count": null,
   "metadata": {
    "collapsed": false
   },
   "outputs": [],
   "source": [
    "# fit estimator and log time spent\n",
    "start = time.clock()\n",
    "\n",
    "estimator.fit(X_train, list(y_train))\n",
    "y_predict = estimator.predict(X_test)\n",
    "\n",
    "elapsed = time.clock()\n",
    "elapsed = elapsed - start\n",
    "\n",
    "report = sklearn.metrics.classification_report(y_test, y_predict)\n",
    "\n",
    "print \"Time spent in Logistic Regression Grid Search is: \", elapsed\n",
    "print report\n",
    "print estimator.best_params_"
   ]
  },
  {
   "cell_type": "code",
   "execution_count": null,
   "metadata": {
    "collapsed": true
   },
   "outputs": [],
   "source": []
  }
 ],
 "metadata": {
  "kernelspec": {
   "display_name": "Python 2",
   "language": "python",
   "name": "python2"
  },
  "language_info": {
   "codemirror_mode": {
    "name": "ipython",
    "version": 2
   },
   "file_extension": ".py",
   "mimetype": "text/x-python",
   "name": "python",
   "nbconvert_exporter": "python",
   "pygments_lexer": "ipython2",
   "version": "2.7.12"
  }
 },
 "nbformat": 4,
 "nbformat_minor": 0
}
