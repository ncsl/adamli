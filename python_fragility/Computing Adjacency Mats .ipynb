{
 "cells": [
  {
   "cell_type": "markdown",
   "metadata": {},
   "source": [
    "# Fragility Data Analysis - Compute State Evolution Matrices\n",
    "Using this notebook to prototype the functions to compute the state evolution of each dataset"
   ]
  },
  {
   "cell_type": "code",
   "execution_count": 3,
   "metadata": {
    "collapsed": false
   },
   "outputs": [],
   "source": [
    "import pandas as pd\n",
    "import numpy as np\n",
    "import json\n",
    "from IPython.display import display\n",
    "import os\n",
    "\n",
    "import scipy, scipy.io\n",
    "try:\n",
    "    import cPickle as pickle\n",
    "except:\n",
    "    import pickle\n",
    "\n",
    "import gzip\n",
    "import cStringIO\n",
    "import bz2,json,contextlib\n",
    "\n",
    "import matplotlib\n",
    "from matplotlib import *\n",
    "from matplotlib import pyplot as plt\n",
    "import itertools\n",
    "from mpl_toolkits.axes_grid1 import make_axes_locatable\n",
    "# pretty charting\n",
    "import seaborn as sns\n",
    "sns.set_palette('muted')\n",
    "sns.set_style('darkgrid')\n",
    "from natsort import natsorted, ns\n",
    "\n",
    "%matplotlib inline\n",
    "\n",
    "## sklearn imports\n",
    "import sklearn.linear_model\n",
    "import sklearn.cross_validation\n",
    "import sklearn.tree\n",
    "import sklearn.ensemble\n",
    "import sklearn.preprocessing\n",
    "import sklearn.feature_selection\n",
    "import sklearn.pipeline\n",
    "import sklearn.grid_search\n",
    "\n",
    "import loadmat"
   ]
  },
  {
   "cell_type": "code",
   "execution_count": 4,
   "metadata": {
    "collapsed": false
   },
   "outputs": [
    {
     "name": "stdout",
     "output_type": "stream",
     "text": [
      "EXTERNAL IS:  0\n"
     ]
    }
   ],
   "source": [
    "## Take .mat EEG files and convert them to .json data\n",
    "\n",
    "patients = [\n",
    "            'pt1sz2', 'pt1sz3', 'pt1sz4', \\\n",
    "            'pt2sz1', 'pt2sz3', \n",
    "            'pt2sz4', \\\n",
    "            'pt3sz2', 'pt3sz4', 'pt6sz3', 'pt6sz4', 'pt6sz5', \\\n",
    "            'pt7sz19', 'pt7sz21', 'pt7sz22', \\\n",
    "            'pt8sz1', 'pt8sz2', 'pt8sz3', \\\n",
    "            'JH101sz1', 'JH101sz2', 'JH101sz3', 'JH101sz4', \\\n",
    "            'JH102sz1', 'JH102sz2', 'JH102sz3', 'JH102sz4', 'JH102sz5', 'JH102sz6', \\\n",
    "            'JH103sz1', 'JH103sz2', 'JH103sz3', \\\n",
    "            'JH104sz1', 'JH104sz2', 'JH104sz3', \\\n",
    "            'JH105sz1', 'JH105sz2', 'JH105sz3', 'JH105sz4', 'JH105sz5',\\\n",
    "            'JH106sz1', 'JH106sz2', 'JH106sz3', 'JH106sz4', 'JH106sz5', 'JH106sz6', \\\n",
    "            'JH107sz1', 'JH107sz2', 'JH107sz3', 'JH107sz4', 'JH107sz5', 'JH107sz6', 'JH107sz7', 'JH107sz8', 'JH107sz9', \\\n",
    "            'JH108sz1', 'JH108sz2', 'JH108sz3', 'JH108sz4', 'JH108sz5', 'JH108sz6', 'JH108sz7'\n",
    "           ]\n",
    "EXTERNAL = 0\n",
    "\n",
    "# initialize directory with data\n",
    "dataDir = '../fragility_dataanalysis/data/'\n",
    "iiDataDir = '../fragility_dataanalysis/data/interictal_data/'\n",
    "newDataDir = '../fragility_dataanalysis/data/json/' # new directory to save data\n",
    "\n",
    "if EXTERNAL:\n",
    "    dataDir = '/Volumes/NIL_PASS/data/'\n",
    "    iiDataDir = '/Volumes/NIL_PASS/data/interictal_data/'\n",
    "    newDataDir = '/Volumes/NIL_PASS/data/json/'\n",
    "    \n",
    "print 'EXTERNAL IS: ', EXTERNAL"
   ]
  },
  {
   "cell_type": "code",
   "execution_count": 5,
   "metadata": {
    "collapsed": false
   },
   "outputs": [
    {
     "name": "stdout",
     "output_type": "stream",
     "text": [
      "Starting patient  pt1sz2\n"
     ]
    },
    {
     "ename": "OSError",
     "evalue": "[Errno 2] No such file or directory: '../fragility_dataanalysis/data/json/pt1sz2/'",
     "output_type": "error",
     "traceback": [
      "\u001b[0;31m---------------------------------------------------------------------------\u001b[0m",
      "\u001b[0;31mOSError\u001b[0m                                   Traceback (most recent call last)",
      "\u001b[0;32m<ipython-input-5-b8be23fbccda>\u001b[0m in \u001b[0;36m<module>\u001b[0;34m()\u001b[0m\n\u001b[1;32m      7\u001b[0m     \u001b[0mpatientDir\u001b[0m \u001b[0;34m=\u001b[0m \u001b[0mnewDataDir\u001b[0m \u001b[0;34m+\u001b[0m \u001b[0mpatient\u001b[0m \u001b[0;34m+\u001b[0m \u001b[0;34m'/'\u001b[0m\u001b[0;34m\u001b[0m\u001b[0m\n\u001b[1;32m      8\u001b[0m     \u001b[0mjsonFiles\u001b[0m \u001b[0;34m=\u001b[0m \u001b[0;34m[\u001b[0m\u001b[0;34m]\u001b[0m\u001b[0;34m\u001b[0m\u001b[0m\n\u001b[0;32m----> 9\u001b[0;31m     \u001b[0;32mfor\u001b[0m \u001b[0mfile\u001b[0m \u001b[0;32min\u001b[0m \u001b[0mos\u001b[0m\u001b[0;34m.\u001b[0m\u001b[0mlistdir\u001b[0m\u001b[0;34m(\u001b[0m\u001b[0mpatientDir\u001b[0m\u001b[0;34m)\u001b[0m\u001b[0;34m:\u001b[0m\u001b[0;34m\u001b[0m\u001b[0m\n\u001b[0m\u001b[1;32m     10\u001b[0m         \u001b[0;32mif\u001b[0m \u001b[0mfile\u001b[0m\u001b[0;34m.\u001b[0m\u001b[0mendswith\u001b[0m\u001b[0;34m(\u001b[0m\u001b[0;34m'.json'\u001b[0m\u001b[0;34m)\u001b[0m\u001b[0;34m:\u001b[0m\u001b[0;34m\u001b[0m\u001b[0m\n\u001b[1;32m     11\u001b[0m             \u001b[0mjsonFiles\u001b[0m\u001b[0;34m.\u001b[0m\u001b[0mappend\u001b[0m\u001b[0;34m(\u001b[0m\u001b[0mfile\u001b[0m\u001b[0;34m)\u001b[0m\u001b[0;34m\u001b[0m\u001b[0m\n",
      "\u001b[0;31mOSError\u001b[0m: [Errno 2] No such file or directory: '../fragility_dataanalysis/data/json/pt1sz2/'"
     ]
    }
   ],
   "source": [
    "# get mat files in a patient's directory\n",
    "patient = patients[0]\n",
    "\n",
    "for patient in patients:\n",
    "    print \"Starting patient \", patient\n",
    "    \n",
    "    patientDir = newDataDir + patient + '/'\n",
    "    jsonFiles = []\n",
    "    for file in os.listdir(patientDir):\n",
    "        if file.endswith('.json'):\n",
    "            jsonFiles.append(file)\n",
    "\n",
    "    if len(jsonFiles) > 1:\n",
    "        print \"There is too many .mat files in this directory!\"\n",
    "        print \"Check patient \", patient\n",
    "\n",
    "#     matFile = patientDir + matFiles[0]\n",
    "#     data = loadmat(matFile)\n",
    "\n",
    "#     fileName = newDataDir + patient + 'raw.json.bz2'\n",
    "#     try:\n",
    "#         convertMatToJSON(data, fileName)\n",
    "#     except:\n",
    "#         print \"Problem with \", patient\n"
   ]
  },
  {
   "cell_type": "code",
   "execution_count": null,
   "metadata": {
    "collapsed": true
   },
   "outputs": [],
   "source": []
  }
 ],
 "metadata": {
  "kernelspec": {
   "display_name": "Python 2",
   "language": "python",
   "name": "python2"
  },
  "language_info": {
   "codemirror_mode": {
    "name": "ipython",
    "version": 2
   },
   "file_extension": ".py",
   "mimetype": "text/x-python",
   "name": "python",
   "nbconvert_exporter": "python",
   "pygments_lexer": "ipython2",
   "version": "2.7.12"
  }
 },
 "nbformat": 4,
 "nbformat_minor": 0
}
